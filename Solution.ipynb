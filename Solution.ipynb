{
 "cells": [
  {
   "cell_type": "code",
   "execution_count": 7,
   "id": "6b3eaae2",
   "metadata": {},
   "outputs": [
    {
     "name": "stdout",
     "output_type": "stream",
     "text": [
      "Analysis completed. Check 'firewall_analysis_report.txt' for the report.\n"
     ]
    }
   ],
   "source": [
    "import re\n",
    "from collections import Counter\n",
    "\n",
    "def parse_log_line(line):\n",
    "    pattern = r'(\\d{4}-\\d{2}-\\d{2} \\d{2}:\\d{2}:\\d{2}) (\\S+) (\\S+) (\\S+) (\\S+) (\\S+) (\\S+) (\\S+) (\\S+) (\\S+) (\\S+)'\n",
    "    match = re.match(pattern, line)\n",
    "    if match:\n",
    "        return match.groups()\n",
    "    else:\n",
    "        return None\n",
    "\n",
    "def analyze_logs(log_file):\n",
    "    ip_counter = Counter()\n",
    "    port_counter = Counter()\n",
    "\n",
    "    with open(log_file, 'r') as file:\n",
    "        for line in file:\n",
    "            log_entry = parse_log_line(line)\n",
    "            if log_entry:\n",
    "                timestamp, action, protocol, src_ip, dst_ip, src_port, dst_port, _, _, _, _ = log_entry\n",
    "\n",
    "                if action == 'ALLOW':\n",
    "                    ip_counter[src_ip] += 1\n",
    "                    ip_counter[dst_ip] += 1\n",
    "                    port_counter[src_port] += 1\n",
    "                    port_counter[dst_port] += 1\n",
    "\n",
    "    return ip_counter, port_counter\n",
    "\n",
    "def generate_report(ip_counter, port_counter):\n",
    "    \n",
    "    report = \"Firewall Log Analysis Report\\n\\n\"\n",
    "    report += \"Top Source/Destination IP Addresses:\\n\"\n",
    "    for ip, count in ip_counter.most_common(10):\n",
    "        report += f\"{ip}: {count} occurrences\\n\"\n",
    "\n",
    "    report += \"\\nTop Source/Destination Ports:\\n\"\n",
    "    for port, count in port_counter.most_common(10):\n",
    "        report += f\"Port {port}: {count} occurrences\\n\"\n",
    "\n",
    "    return report\n",
    "\n",
    "if __name__ == \"__main__\":\n",
    "    log_file_path = \"path/to/your/log/file.log\"  # log file\n",
    "    ip_counter, port_counter = analyze_logs(\"firewalllog_2023_11_7.log.txt\")\n",
    "    report = generate_report(ip_counter, port_counter)\n",
    "\n",
    "    with open(\"firewall_analysis_report.txt\", 'w') as report_file:\n",
    "        report_file.write(report)\n",
    "\n",
    "    print(\"Analysis completed. Check 'firewall_analysis_report.txt' for the report.\")\n"
   ]
  },
  {
   "cell_type": "code",
   "execution_count": null,
   "id": "ada69a27",
   "metadata": {},
   "outputs": [],
   "source": []
  }
 ],
 "metadata": {
  "kernelspec": {
   "display_name": "Python 3 (ipykernel)",
   "language": "python",
   "name": "python3"
  },
  "language_info": {
   "codemirror_mode": {
    "name": "ipython",
    "version": 3
   },
   "file_extension": ".py",
   "mimetype": "text/x-python",
   "name": "python",
   "nbconvert_exporter": "python",
   "pygments_lexer": "ipython3",
   "version": "3.9.12"
  }
 },
 "nbformat": 4,
 "nbformat_minor": 5
}
